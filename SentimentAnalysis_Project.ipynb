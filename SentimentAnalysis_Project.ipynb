{
 "cells": [
  {
   "cell_type": "code",
   "execution_count": null,
   "id": "f9d8272c-85cb-4dba-ab34-eaad96ac43a4",
   "metadata": {},
   "outputs": [],
   "source": [
    "!pip install torch torchvision torchaudio"
   ]
  },
  {
   "cell_type": "code",
   "execution_count": 2,
   "id": "7146a403-15ae-4c3d-b654-53d6545851b9",
   "metadata": {},
   "outputs": [
    {
     "name": "stdout",
     "output_type": "stream",
     "text": [
      "Requirement already satisfied: transformers in /opt/anaconda3/lib/python3.12/site-packages (4.48.3)\n",
      "Requirement already satisfied: requests in /opt/anaconda3/lib/python3.12/site-packages (2.32.2)\n",
      "Requirement already satisfied: beautifulsoup4 in /opt/anaconda3/lib/python3.12/site-packages (4.12.3)\n",
      "Requirement already satisfied: pandas in /opt/anaconda3/lib/python3.12/site-packages (2.2.2)\n",
      "Requirement already satisfied: numpy in /opt/anaconda3/lib/python3.12/site-packages (1.26.4)\n",
      "Requirement already satisfied: filelock in /opt/anaconda3/lib/python3.12/site-packages (from transformers) (3.13.1)\n",
      "Requirement already satisfied: huggingface-hub<1.0,>=0.24.0 in /opt/anaconda3/lib/python3.12/site-packages (from transformers) (0.28.1)\n",
      "Requirement already satisfied: packaging>=20.0 in /opt/anaconda3/lib/python3.12/site-packages (from transformers) (24.2)\n",
      "Requirement already satisfied: pyyaml>=5.1 in /opt/anaconda3/lib/python3.12/site-packages (from transformers) (6.0.1)\n",
      "Requirement already satisfied: regex!=2019.12.17 in /opt/anaconda3/lib/python3.12/site-packages (from transformers) (2023.10.3)\n",
      "Requirement already satisfied: tokenizers<0.22,>=0.21 in /opt/anaconda3/lib/python3.12/site-packages (from transformers) (0.21.0)\n",
      "Requirement already satisfied: safetensors>=0.4.1 in /opt/anaconda3/lib/python3.12/site-packages (from transformers) (0.5.2)\n",
      "Requirement already satisfied: tqdm>=4.27 in /opt/anaconda3/lib/python3.12/site-packages (from transformers) (4.66.4)\n",
      "Requirement already satisfied: charset-normalizer<4,>=2 in /opt/anaconda3/lib/python3.12/site-packages (from requests) (2.0.4)\n",
      "Requirement already satisfied: idna<4,>=2.5 in /opt/anaconda3/lib/python3.12/site-packages (from requests) (3.7)\n",
      "Requirement already satisfied: urllib3<3,>=1.21.1 in /opt/anaconda3/lib/python3.12/site-packages (from requests) (2.2.2)\n",
      "Requirement already satisfied: certifi>=2017.4.17 in /opt/anaconda3/lib/python3.12/site-packages (from requests) (2024.6.2)\n",
      "Requirement already satisfied: soupsieve>1.2 in /opt/anaconda3/lib/python3.12/site-packages (from beautifulsoup4) (2.5)\n",
      "Requirement already satisfied: python-dateutil>=2.8.2 in /opt/anaconda3/lib/python3.12/site-packages (from pandas) (2.9.0.post0)\n",
      "Requirement already satisfied: pytz>=2020.1 in /opt/anaconda3/lib/python3.12/site-packages (from pandas) (2024.1)\n",
      "Requirement already satisfied: tzdata>=2022.7 in /opt/anaconda3/lib/python3.12/site-packages (from pandas) (2023.3)\n",
      "Requirement already satisfied: fsspec>=2023.5.0 in /opt/anaconda3/lib/python3.12/site-packages (from huggingface-hub<1.0,>=0.24.0->transformers) (2024.3.1)\n",
      "Requirement already satisfied: typing-extensions>=3.7.4.3 in /opt/anaconda3/lib/python3.12/site-packages (from huggingface-hub<1.0,>=0.24.0->transformers) (4.11.0)\n",
      "Requirement already satisfied: six>=1.5 in /opt/anaconda3/lib/python3.12/site-packages (from python-dateutil>=2.8.2->pandas) (1.16.0)\n"
     ]
    }
   ],
   "source": [
    "!pip install transformers requests beautifulsoup4 pandas numpy"
   ]
  },
  {
   "cell_type": "code",
   "execution_count": 3,
   "id": "08085b03-f34d-4cf5-817d-8c3b91f5c51d",
   "metadata": {},
   "outputs": [],
   "source": [
    "from transformers import AutoTokenizer, AutoModelForSequenceClassification\n",
    "import torch\n",
    "import requests\n",
    "from bs4 import BeautifulSoup\n",
    "import re"
   ]
  },
  {
   "cell_type": "code",
   "execution_count": 4,
   "id": "7f196bd6-42e9-4945-8f4b-627e22a98500",
   "metadata": {},
   "outputs": [],
   "source": [
    "tokenizer = AutoTokenizer.from_pretrained('nlptown/bert-base-multilingual-uncased-sentiment')\n",
    "\n",
    "model = AutoModelForSequenceClassification.from_pretrained('nlptown/bert-base-multilingual-uncased-sentiment')"
   ]
  },
  {
   "cell_type": "code",
   "execution_count": 58,
   "id": "dd9cfbeb-149c-4bd9-8f4b-8f80a79ccf66",
   "metadata": {},
   "outputs": [],
   "source": [
    "tokens = tokenizer.encode('It was pretty decent. Really nice', return_tensors='pt')"
   ]
  },
  {
   "cell_type": "code",
   "execution_count": 60,
   "id": "3adb606b-396a-4e44-b912-5dc111175d8a",
   "metadata": {},
   "outputs": [
    {
     "data": {
      "text/plain": [
       "'[CLS] it was pretty decent. really nice [SEP]'"
      ]
     },
     "execution_count": 60,
     "metadata": {},
     "output_type": "execute_result"
    }
   ],
   "source": [
    "tokenizer.decode(tokens[0])"
   ]
  },
  {
   "cell_type": "code",
   "execution_count": 62,
   "id": "67551c22-3978-450e-af86-af516fd1efa2",
   "metadata": {},
   "outputs": [],
   "source": [
    "result = model(tokens)"
   ]
  },
  {
   "cell_type": "code",
   "execution_count": 64,
   "id": "b0d0ef99-45ee-4564-a336-435fb1e01e2b",
   "metadata": {},
   "outputs": [
    {
     "data": {
      "text/plain": [
       "4"
      ]
     },
     "execution_count": 64,
     "metadata": {},
     "output_type": "execute_result"
    }
   ],
   "source": [
    "int(torch.argmax(result.logits)) + 1"
   ]
  },
  {
   "cell_type": "code",
   "execution_count": 88,
   "id": "87ce713d-9b6e-40e7-b29b-105724c9135b",
   "metadata": {},
   "outputs": [],
   "source": [
    "r = requests.get('https://www.yelp.com/biz/fire-wok-arbutus-2')\n",
    "soup = BeautifulSoup(r.text, 'html.parser')\n",
    "regex = re.compile('.*comment.*')\n",
    "results = soup.find_all(\"p\", {'class':regex})\n",
    "reviews = [result.text for result in results]"
   ]
  },
  {
   "cell_type": "code",
   "execution_count": 92,
   "id": "9276f028-b776-4ec9-93cf-3d69f2bba44d",
   "metadata": {},
   "outputs": [
    {
     "data": {
      "text/plain": [
       "\"Got some takeout here recently. Overall, not bad!I started out with some of the fried pork dumplings, thanks to many other recs on here and they did not disappoint! Crispy, porky, with a delicious sauce that had the perfect balance of sweet, sour, and salty. Would get again.I also ordered the Orange Chicken. Nice crispy breading without being too much or too heavy. The pieces were also cut into manageable-sized chunks rather than some of those enormous pieces you sometimes get. The taste was fine. I only wish there was a little bit more broccoli and a little bit more sauce to match the amount of rice they gave me. Otherwise, very good.I had it delivered and their website estimated about 55 minutes until arrival, but the driver got there in about 30, so I hope that speedy service is typical! Prices are fair. I'd order from here again.\""
      ]
     },
     "execution_count": 92,
     "metadata": {},
     "output_type": "execute_result"
    }
   ],
   "source": [
    "reviews[0]"
   ]
  },
  {
   "cell_type": "code",
   "execution_count": 98,
   "id": "193719e6-e2d3-4128-981e-dcb74ea30656",
   "metadata": {},
   "outputs": [],
   "source": [
    "import numpy as np\n",
    "import pandas as pd"
   ]
  },
  {
   "cell_type": "code",
   "execution_count": 100,
   "id": "dac31f6d-1b16-458f-a4ff-8a489de75581",
   "metadata": {},
   "outputs": [],
   "source": [
    "df = pd.DataFrame(np.array(reviews), columns=['review'])"
   ]
  },
  {
   "cell_type": "code",
   "execution_count": 106,
   "id": "12fde87f-ebaf-486b-9fcd-d4667a482d98",
   "metadata": {},
   "outputs": [
    {
     "data": {
      "text/plain": [
       "\"Got some takeout here recently. Overall, not bad!I started out with some of the fried pork dumplings, thanks to many other recs on here and they did not disappoint! Crispy, porky, with a delicious sauce that had the perfect balance of sweet, sour, and salty. Would get again.I also ordered the Orange Chicken. Nice crispy breading without being too much or too heavy. The pieces were also cut into manageable-sized chunks rather than some of those enormous pieces you sometimes get. The taste was fine. I only wish there was a little bit more broccoli and a little bit more sauce to match the amount of rice they gave me. Otherwise, very good.I had it delivered and their website estimated about 55 minutes until arrival, but the driver got there in about 30, so I hope that speedy service is typical! Prices are fair. I'd order from here again.\""
      ]
     },
     "execution_count": 106,
     "metadata": {},
     "output_type": "execute_result"
    }
   ],
   "source": [
    "df['review'].iloc[0]"
   ]
  },
  {
   "cell_type": "code",
   "execution_count": 108,
   "id": "4c528476-89d3-4e75-9c87-9a88c94df126",
   "metadata": {},
   "outputs": [],
   "source": [
    "def sentiment_score(review):\n",
    "    tokens = tokenizer.encode(review, return_tensors='pt')\n",
    "    result = model(tokens)\n",
    "    return int(torch.argmax(result.logits))+1"
   ]
  },
  {
   "cell_type": "code",
   "execution_count": 110,
   "id": "707f30b0-9117-487f-bd31-d36ed3393446",
   "metadata": {},
   "outputs": [
    {
     "data": {
      "text/plain": [
       "4"
      ]
     },
     "execution_count": 110,
     "metadata": {},
     "output_type": "execute_result"
    }
   ],
   "source": [
    "sentiment_score(df['review'].iloc[0])"
   ]
  },
  {
   "cell_type": "code",
   "execution_count": 112,
   "id": "ee475a96-e554-4ec7-9624-910072bd2ffa",
   "metadata": {},
   "outputs": [],
   "source": [
    "df['sentiment']=df['review'].apply(lambda x: sentiment_score(x[:512]))"
   ]
  },
  {
   "cell_type": "code",
   "execution_count": 116,
   "id": "772ea4d5-64b1-459e-bb67-9e33795395bf",
   "metadata": {},
   "outputs": [
    {
     "data": {
      "text/html": [
       "<div>\n",
       "<style scoped>\n",
       "    .dataframe tbody tr th:only-of-type {\n",
       "        vertical-align: middle;\n",
       "    }\n",
       "\n",
       "    .dataframe tbody tr th {\n",
       "        vertical-align: top;\n",
       "    }\n",
       "\n",
       "    .dataframe thead th {\n",
       "        text-align: right;\n",
       "    }\n",
       "</style>\n",
       "<table border=\"1\" class=\"dataframe\">\n",
       "  <thead>\n",
       "    <tr style=\"text-align: right;\">\n",
       "      <th></th>\n",
       "      <th>review</th>\n",
       "      <th>sentiment</th>\n",
       "    </tr>\n",
       "  </thead>\n",
       "  <tbody>\n",
       "    <tr>\n",
       "      <th>0</th>\n",
       "      <td>Got some takeout here recently. Overall, not b...</td>\n",
       "      <td>4</td>\n",
       "    </tr>\n",
       "    <tr>\n",
       "      <th>1</th>\n",
       "      <td>Quite the disappointment,  ordered Egg Drop Wo...</td>\n",
       "      <td>2</td>\n",
       "    </tr>\n",
       "    <tr>\n",
       "      <th>2</th>\n",
       "      <td>This place had surprisingly delicious Chinese ...</td>\n",
       "      <td>2</td>\n",
       "    </tr>\n",
       "    <tr>\n",
       "      <th>3</th>\n",
       "      <td>I don't know what's up with these reviews but ...</td>\n",
       "      <td>2</td>\n",
       "    </tr>\n",
       "    <tr>\n",
       "      <th>4</th>\n",
       "      <td>This is good place to go to pick up Chinese fo...</td>\n",
       "      <td>4</td>\n",
       "    </tr>\n",
       "    <tr>\n",
       "      <th>5</th>\n",
       "      <td>Very good carry out and they deliver. They jus...</td>\n",
       "      <td>4</td>\n",
       "    </tr>\n",
       "    <tr>\n",
       "      <th>6</th>\n",
       "      <td>Great food and service! This is really nice fa...</td>\n",
       "      <td>5</td>\n",
       "    </tr>\n",
       "    <tr>\n",
       "      <th>7</th>\n",
       "      <td>My son moved in nearby so after helping him mo...</td>\n",
       "      <td>3</td>\n",
       "    </tr>\n",
       "    <tr>\n",
       "      <th>8</th>\n",
       "      <td>Ordered bourbon chicken, sesame chicken, and f...</td>\n",
       "      <td>5</td>\n",
       "    </tr>\n",
       "    <tr>\n",
       "      <th>9</th>\n",
       "      <td>My go to Chinese take out. Fire wok does an ex...</td>\n",
       "      <td>5</td>\n",
       "    </tr>\n",
       "    <tr>\n",
       "      <th>10</th>\n",
       "      <td>My wife asked me to order the General Tso agai...</td>\n",
       "      <td>5</td>\n",
       "    </tr>\n",
       "  </tbody>\n",
       "</table>\n",
       "</div>"
      ],
      "text/plain": [
       "                                               review  sentiment\n",
       "0   Got some takeout here recently. Overall, not b...          4\n",
       "1   Quite the disappointment,  ordered Egg Drop Wo...          2\n",
       "2   This place had surprisingly delicious Chinese ...          2\n",
       "3   I don't know what's up with these reviews but ...          2\n",
       "4   This is good place to go to pick up Chinese fo...          4\n",
       "5   Very good carry out and they deliver. They jus...          4\n",
       "6   Great food and service! This is really nice fa...          5\n",
       "7   My son moved in nearby so after helping him mo...          3\n",
       "8   Ordered bourbon chicken, sesame chicken, and f...          5\n",
       "9   My go to Chinese take out. Fire wok does an ex...          5\n",
       "10  My wife asked me to order the General Tso agai...          5"
      ]
     },
     "execution_count": 116,
     "metadata": {},
     "output_type": "execute_result"
    }
   ],
   "source": [
    "df"
   ]
  },
  {
   "cell_type": "code",
   "execution_count": 118,
   "id": "c570881f-bb50-4f15-9814-6e6c3effef60",
   "metadata": {},
   "outputs": [
    {
     "data": {
      "text/plain": [
       "\"This place had surprisingly delicious Chinese food. Blown away.Chicken & BroccoliExcellent sauce, great flavors and perfect consistency. The chicken was tender and the broccoli crisp and tender, while not being mushy. Cheesesteak EggrollHere is where they fell short. There was a speck of steak inside the eggroll. It was more of a cheese eggroll than anything. Disappointed on this one. Fried pork Dumplings Excellent! Perfect sear on the outside, golden brown and soft in the areas that weren't seared. Delicious flavors, could really get the hints of ginger. Sauce it came with was the perfect amount of sweet and salty. #FeedsMySoul. Singapore Mei FunNoodles we cooked perfectly. Excellent amount of curry. All of the meat was tender and flavorful. Super impressed for this spot. Definitely check them out.\""
      ]
     },
     "execution_count": 118,
     "metadata": {},
     "output_type": "execute_result"
    }
   ],
   "source": [
    "reviews[2]"
   ]
  },
  {
   "cell_type": "code",
   "execution_count": null,
   "id": "1b9417f3-dba5-4dd3-9ee5-c44456ffe37a",
   "metadata": {},
   "outputs": [],
   "source": []
  }
 ],
 "metadata": {
  "kernelspec": {
   "display_name": "Python 3 (ipykernel)",
   "language": "python",
   "name": "python3"
  },
  "language_info": {
   "codemirror_mode": {
    "name": "ipython",
    "version": 3
   },
   "file_extension": ".py",
   "mimetype": "text/x-python",
   "name": "python",
   "nbconvert_exporter": "python",
   "pygments_lexer": "ipython3",
   "version": "3.12.4"
  }
 },
 "nbformat": 4,
 "nbformat_minor": 5
}
